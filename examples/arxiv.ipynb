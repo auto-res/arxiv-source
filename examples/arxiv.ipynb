{
 "cells": [
  {
   "cell_type": "markdown",
   "metadata": {},
   "source": [
    "# arXiv"
   ]
  },
  {
   "cell_type": "markdown",
   "metadata": {},
   "source": [
    "[![Open In Colab](https://colab.research.google.com/assets/colab-badge.svg)](https://colab.research.google.com/github/fuyu-quant/arxiv-resource/blob/main/examples/arxiv.ipynb)"
   ]
  },
  {
   "cell_type": "code",
   "execution_count": 1,
   "metadata": {},
   "outputs": [
    {
     "name": "stdout",
     "output_type": "stream",
     "text": [
      "Requirement already satisfied: arxiv-source in /Users/tanakatouma/opt/anaconda3/lib/python3.9/site-packages (0.1.1)\n",
      "Collecting arxiv-source\n",
      "  Downloading arxiv_source-0.1.2-py3-none-any.whl (3.7 kB)\n",
      "Requirement already satisfied: ipykernel<7.0.0,>=6.25.1 in /Users/tanakatouma/opt/anaconda3/lib/python3.9/site-packages (from arxiv-source) (6.25.1)\n",
      "Requirement already satisfied: requests<3.0.0,>=2.31.0 in /Users/tanakatouma/opt/anaconda3/lib/python3.9/site-packages (from arxiv-source) (2.31.0)\n",
      "Requirement already satisfied: debugpy>=1.6.5 in /Users/tanakatouma/opt/anaconda3/lib/python3.9/site-packages (from ipykernel<7.0.0,>=6.25.1->arxiv-source) (1.6.7.post1)\n",
      "Requirement already satisfied: jupyter-client>=6.1.12 in /Users/tanakatouma/opt/anaconda3/lib/python3.9/site-packages (from ipykernel<7.0.0,>=6.25.1->arxiv-source) (6.1.12)\n",
      "Requirement already satisfied: psutil in /Users/tanakatouma/opt/anaconda3/lib/python3.9/site-packages (from ipykernel<7.0.0,>=6.25.1->arxiv-source) (5.9.5)\n",
      "Requirement already satisfied: jupyter-core!=5.0.*,>=4.12 in /Users/tanakatouma/opt/anaconda3/lib/python3.9/site-packages (from ipykernel<7.0.0,>=6.25.1->arxiv-source) (5.3.1)\n",
      "Requirement already satisfied: tornado>=6.1 in /Users/tanakatouma/opt/anaconda3/lib/python3.9/site-packages (from ipykernel<7.0.0,>=6.25.1->arxiv-source) (6.1)\n",
      "Requirement already satisfied: matplotlib-inline>=0.1 in /Users/tanakatouma/opt/anaconda3/lib/python3.9/site-packages (from ipykernel<7.0.0,>=6.25.1->arxiv-source) (0.1.2)\n",
      "Requirement already satisfied: ipython>=7.23.1 in /Users/tanakatouma/opt/anaconda3/lib/python3.9/site-packages (from ipykernel<7.0.0,>=6.25.1->arxiv-source) (7.29.0)\n",
      "Requirement already satisfied: traitlets>=5.4.0 in /Users/tanakatouma/opt/anaconda3/lib/python3.9/site-packages (from ipykernel<7.0.0,>=6.25.1->arxiv-source) (5.9.0)\n",
      "Requirement already satisfied: packaging in /Users/tanakatouma/opt/anaconda3/lib/python3.9/site-packages (from ipykernel<7.0.0,>=6.25.1->arxiv-source) (23.1)\n",
      "Requirement already satisfied: nest-asyncio in /Users/tanakatouma/opt/anaconda3/lib/python3.9/site-packages (from ipykernel<7.0.0,>=6.25.1->arxiv-source) (1.5.1)\n",
      "Requirement already satisfied: pyzmq>=20 in /Users/tanakatouma/opt/anaconda3/lib/python3.9/site-packages (from ipykernel<7.0.0,>=6.25.1->arxiv-source) (22.2.1)\n",
      "Requirement already satisfied: appnope in /Users/tanakatouma/opt/anaconda3/lib/python3.9/site-packages (from ipykernel<7.0.0,>=6.25.1->arxiv-source) (0.1.2)\n",
      "Requirement already satisfied: comm>=0.1.1 in /Users/tanakatouma/opt/anaconda3/lib/python3.9/site-packages (from ipykernel<7.0.0,>=6.25.1->arxiv-source) (0.1.4)\n",
      "Requirement already satisfied: setuptools>=18.5 in /Users/tanakatouma/opt/anaconda3/lib/python3.9/site-packages (from ipython>=7.23.1->ipykernel<7.0.0,>=6.25.1->arxiv-source) (58.0.4)\n",
      "Requirement already satisfied: pygments in /Users/tanakatouma/opt/anaconda3/lib/python3.9/site-packages (from ipython>=7.23.1->ipykernel<7.0.0,>=6.25.1->arxiv-source) (2.10.0)\n",
      "Requirement already satisfied: decorator in /Users/tanakatouma/opt/anaconda3/lib/python3.9/site-packages (from ipython>=7.23.1->ipykernel<7.0.0,>=6.25.1->arxiv-source) (5.1.0)\n",
      "Requirement already satisfied: pickleshare in /Users/tanakatouma/opt/anaconda3/lib/python3.9/site-packages (from ipython>=7.23.1->ipykernel<7.0.0,>=6.25.1->arxiv-source) (0.7.5)\n",
      "Requirement already satisfied: pexpect>4.3 in /Users/tanakatouma/opt/anaconda3/lib/python3.9/site-packages (from ipython>=7.23.1->ipykernel<7.0.0,>=6.25.1->arxiv-source) (4.8.0)\n",
      "Requirement already satisfied: prompt-toolkit!=3.0.0,!=3.0.1,<3.1.0,>=2.0.0 in /Users/tanakatouma/opt/anaconda3/lib/python3.9/site-packages (from ipython>=7.23.1->ipykernel<7.0.0,>=6.25.1->arxiv-source) (3.0.20)\n",
      "Requirement already satisfied: backcall in /Users/tanakatouma/opt/anaconda3/lib/python3.9/site-packages (from ipython>=7.23.1->ipykernel<7.0.0,>=6.25.1->arxiv-source) (0.2.0)\n",
      "Requirement already satisfied: jedi>=0.16 in /Users/tanakatouma/opt/anaconda3/lib/python3.9/site-packages (from ipython>=7.23.1->ipykernel<7.0.0,>=6.25.1->arxiv-source) (0.18.0)\n",
      "Requirement already satisfied: parso<0.9.0,>=0.8.0 in /Users/tanakatouma/opt/anaconda3/lib/python3.9/site-packages (from jedi>=0.16->ipython>=7.23.1->ipykernel<7.0.0,>=6.25.1->arxiv-source) (0.8.2)\n",
      "Requirement already satisfied: python-dateutil>=2.1 in /Users/tanakatouma/opt/anaconda3/lib/python3.9/site-packages (from jupyter-client>=6.1.12->ipykernel<7.0.0,>=6.25.1->arxiv-source) (2.8.2)\n",
      "Requirement already satisfied: platformdirs>=2.5 in /Users/tanakatouma/opt/anaconda3/lib/python3.9/site-packages (from jupyter-core!=5.0.*,>=4.12->ipykernel<7.0.0,>=6.25.1->arxiv-source) (3.10.0)\n",
      "Requirement already satisfied: ptyprocess>=0.5 in /Users/tanakatouma/opt/anaconda3/lib/python3.9/site-packages (from pexpect>4.3->ipython>=7.23.1->ipykernel<7.0.0,>=6.25.1->arxiv-source) (0.7.0)\n",
      "Requirement already satisfied: wcwidth in /Users/tanakatouma/opt/anaconda3/lib/python3.9/site-packages (from prompt-toolkit!=3.0.0,!=3.0.1,<3.1.0,>=2.0.0->ipython>=7.23.1->ipykernel<7.0.0,>=6.25.1->arxiv-source) (0.2.5)\n",
      "Requirement already satisfied: six>=1.5 in /Users/tanakatouma/opt/anaconda3/lib/python3.9/site-packages (from python-dateutil>=2.1->jupyter-client>=6.1.12->ipykernel<7.0.0,>=6.25.1->arxiv-source) (1.16.0)\n",
      "Requirement already satisfied: urllib3<3,>=1.21.1 in /Users/tanakatouma/opt/anaconda3/lib/python3.9/site-packages (from requests<3.0.0,>=2.31.0->arxiv-source) (1.26.7)\n",
      "Requirement already satisfied: certifi>=2017.4.17 in /Users/tanakatouma/opt/anaconda3/lib/python3.9/site-packages (from requests<3.0.0,>=2.31.0->arxiv-source) (2022.5.18.1)\n",
      "Requirement already satisfied: charset-normalizer<4,>=2 in /Users/tanakatouma/opt/anaconda3/lib/python3.9/site-packages (from requests<3.0.0,>=2.31.0->arxiv-source) (2.0.4)\n",
      "Requirement already satisfied: idna<4,>=2.5 in /Users/tanakatouma/opt/anaconda3/lib/python3.9/site-packages (from requests<3.0.0,>=2.31.0->arxiv-source) (3.2)\n",
      "Installing collected packages: arxiv-source\n",
      "  Attempting uninstall: arxiv-source\n",
      "    Found existing installation: arxiv-source 0.1.1\n",
      "    Uninstalling arxiv-source-0.1.1:\n",
      "      Successfully uninstalled arxiv-source-0.1.1\n",
      "Successfully installed arxiv-source-0.1.2\n"
     ]
    }
   ],
   "source": [
    "!pip install arxiv-source"
   ]
  },
  {
   "cell_type": "code",
   "execution_count": 3,
   "metadata": {},
   "outputs": [],
   "source": [
    "import arxiv_source"
   ]
  },
  {
   "cell_type": "code",
   "execution_count": 4,
   "metadata": {},
   "outputs": [],
   "source": [
    "url = 'https://arxiv.org/abs/2005.14165'\n",
    "directory = 'content/'\n",
    "arxiv_source.obtain_resource(directory, url)"
   ]
  },
  {
   "cell_type": "code",
   "execution_count": null,
   "metadata": {},
   "outputs": [],
   "source": []
  }
 ],
 "metadata": {
  "kernelspec": {
   "display_name": "Python 3.9.7 ('base')",
   "language": "python",
   "name": "python3"
  },
  "language_info": {
   "codemirror_mode": {
    "name": "ipython",
    "version": 3
   },
   "file_extension": ".py",
   "mimetype": "text/x-python",
   "name": "python",
   "nbconvert_exporter": "python",
   "pygments_lexer": "ipython3",
   "version": "3.9.7"
  },
  "orig_nbformat": 4,
  "vscode": {
   "interpreter": {
    "hash": "97cd0279b997a3ba87391de190fa17c4ffeb19ca52cfd6fd0636212daecdeacf"
   }
  }
 },
 "nbformat": 4,
 "nbformat_minor": 2
}
